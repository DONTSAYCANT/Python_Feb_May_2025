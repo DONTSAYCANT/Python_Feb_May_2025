{
 "cells": [
  {
   "cell_type": "code",
   "execution_count": null,
   "metadata": {},
   "outputs": [],
   "source": [
    "#https://www.geeksforgeeks.org/python-collections-module/?ref=gcse\n"
   ]
  },
  {
   "cell_type": "code",
   "execution_count": 1,
   "metadata": {},
   "outputs": [],
   "source": [
    "import collections\n",
    "\n",
    "#Advanced DS operations"
   ]
  },
  {
   "cell_type": "code",
   "execution_count": 3,
   "metadata": {},
   "outputs": [
    {
     "name": "stdout",
     "output_type": "stream",
     "text": [
      "Counter({4: 5, 5: 4, 3: 3, 6: 2, 2: 2, 1: 2, 7: 1})\n"
     ]
    }
   ],
   "source": [
    "#Counter\n",
    "\n",
    "Li1 = [5,6,7,4,3,4,5,5,5,4,4,3,2,1,1,2,3,6,4]\n",
    "\n",
    "print(collections.Counter(Li1))"
   ]
  },
  {
   "cell_type": "code",
   "execution_count": 2,
   "metadata": {},
   "outputs": [
    {
     "name": "stdout",
     "output_type": "stream",
     "text": [
      "Counter({'e': 2, 't': 2, 'l': 1, 'r': 1})\n"
     ]
    }
   ],
   "source": [
    "a = \"letter\"\n",
    "\n",
    "print(collections.Counter(a))"
   ]
  },
  {
   "cell_type": "code",
   "execution_count": 4,
   "metadata": {},
   "outputs": [
    {
     "name": "stdout",
     "output_type": "stream",
     "text": [
      "ChainMap({1: 'python', 2: 'cpp', 3: 'java'}, {6: 'js', 0: 'c'}, {1: 'python', 2: 'cpp', 3: 'java'}, [6, 7, 8, 4])\n"
     ]
    }
   ],
   "source": [
    "#ChainMap\n",
    "\n",
    "a = {1:\"python\",2:\"cpp\",3:\"java\"}\n",
    "b = {6:\"js\", 0:\"c\"}\n",
    "d = {1:\"python\",2:\"cpp\",3:\"java\"}\n",
    "\n",
    "c = collections.ChainMap(a,b,d,h)\n",
    "print(c)"
   ]
  },
  {
   "cell_type": "code",
   "execution_count": 5,
   "metadata": {},
   "outputs": [
    {
     "name": "stdout",
     "output_type": "stream",
     "text": [
      "{3: 30, 2: 10, 5: 50}\n"
     ]
    },
    {
     "ename": "KeyError",
     "evalue": "4",
     "output_type": "error",
     "traceback": [
      "\u001b[1;31m---------------------------------------------------------------------------\u001b[0m",
      "\u001b[1;31mKeyError\u001b[0m                                  Traceback (most recent call last)",
      "\u001b[1;32m<ipython-input-5-bf9f2bc749a2>\u001b[0m in \u001b[0;36m<module>\u001b[1;34m\u001b[0m\n\u001b[0;32m      8\u001b[0m \u001b[1;33m\u001b[0m\u001b[0m\n\u001b[0;32m      9\u001b[0m \u001b[0mprint\u001b[0m\u001b[1;33m(\u001b[0m\u001b[0ma\u001b[0m\u001b[1;33m)\u001b[0m\u001b[1;33m\u001b[0m\u001b[1;33m\u001b[0m\u001b[0m\n\u001b[1;32m---> 10\u001b[1;33m \u001b[0mprint\u001b[0m\u001b[1;33m(\u001b[0m\u001b[0ma\u001b[0m\u001b[1;33m[\u001b[0m\u001b[1;36m4\u001b[0m\u001b[1;33m]\u001b[0m\u001b[1;33m)\u001b[0m\u001b[1;33m\u001b[0m\u001b[1;33m\u001b[0m\u001b[0m\n\u001b[0m",
      "\u001b[1;31mKeyError\u001b[0m: 4"
     ]
    }
   ],
   "source": [
    "#Defaultdict\n",
    "\n",
    "a = {}\n",
    "a[3] = 30\n",
    "a[2] = 10\n",
    "a[5] = 50\n",
    "\n",
    "print(a)\n",
    "print(a[4])\n"
   ]
  },
  {
   "cell_type": "code",
   "execution_count": 5,
   "metadata": {},
   "outputs": [
    {
     "name": "stdout",
     "output_type": "stream",
     "text": [
      "defaultdict(<class 'int'>, {3: 30, 2: 10, 5: 50})\n",
      "0\n"
     ]
    }
   ],
   "source": [
    "a = collections.defaultdict(int)\n",
    "a[3] = 30\n",
    "a[2] = 10\n",
    "a[5] = 50\n",
    "\n",
    "print(a)\n",
    "print(a[4])\n"
   ]
  },
  {
   "cell_type": "code",
   "execution_count": 11,
   "metadata": {},
   "outputs": [
    {
     "name": "stdout",
     "output_type": "stream",
     "text": [
      "deque([])\n"
     ]
    }
   ],
   "source": [
    "#Deque\n",
    "\n",
    "b = collections.deque() #Advanced List\n",
    "print(b)\n"
   ]
  },
  {
   "cell_type": "code",
   "execution_count": 12,
   "metadata": {},
   "outputs": [
    {
     "name": "stdout",
     "output_type": "stream",
     "text": [
      "deque([30])\n",
      "deque([60, 30])\n",
      "deque([60, 30, 60])\n"
     ]
    }
   ],
   "source": [
    "b.appendleft(30)\n",
    "print(b)\n",
    "\n",
    "b.appendleft(60)\n",
    "print(b)\n",
    "\n",
    "b.append(60)\n",
    "print(b)\n",
    "#appendleft\n",
    "#extendleft\n",
    "#popleft"
   ]
  },
  {
   "cell_type": "code",
   "execution_count": 19,
   "metadata": {},
   "outputs": [
    {
     "name": "stdout",
     "output_type": "stream",
     "text": [
      "Student(Name='Sandy', Rollno=121, Marks=88)\n",
      "Sandy\n",
      "Sandy\n"
     ]
    }
   ],
   "source": [
    "#NamedTuple\n",
    "\n",
    "Student = collections.namedtuple(\"Student\", \"Name Rollno Marks\")\n",
    "\n",
    "stud1 = Student(\"Sandy\", 121, 88)\n",
    "\n",
    "print(stud1)\n",
    "\n",
    "print(stud1.Name)\n",
    "\n",
    "print(stud1[0])"
   ]
  },
  {
   "cell_type": "code",
   "execution_count": 18,
   "metadata": {},
   "outputs": [
    {
     "name": "stdout",
     "output_type": "stream",
     "text": [
      "121\n"
     ]
    }
   ],
   "source": [
    "val = (\"Sandy\", 121, 88)\n",
    "\n",
    "print(val[1])"
   ]
  },
  {
   "cell_type": "code",
   "execution_count": 23,
   "metadata": {},
   "outputs": [
    {
     "name": "stdout",
     "output_type": "stream",
     "text": [
      "{1: 10, 2: 20, 3: 30}\n",
      "{1: 10, 3: 30}\n",
      "{1: 10, 3: 30, 2: 20}\n",
      "{1: 100, 3: 30, 2: 20}\n"
     ]
    }
   ],
   "source": [
    "#Ordereddict\n",
    "\n",
    "a = {}\n",
    "\n",
    "a[1] = 10\n",
    "a[2] = 20\n",
    "a[3] = 30\n",
    "print(a)\n",
    "\n",
    "a.pop(2)\n",
    "\n",
    "print(a)\n",
    "\n",
    "a[2] = 20\n",
    "\n",
    "print(a)\n",
    "\n",
    "a[1] = 100\n",
    "\n",
    "print(a)"
   ]
  },
  {
   "cell_type": "code",
   "execution_count": 24,
   "metadata": {},
   "outputs": [
    {
     "name": "stdout",
     "output_type": "stream",
     "text": [
      "OrderedDict([(1, 10), (2, 20), (3, 30)])\n",
      "OrderedDict([(1, 10), (3, 30)])\n",
      "OrderedDict([(1, 10), (3, 30), (2, 20)])\n",
      "OrderedDict([(1, 100), (3, 30), (2, 20)])\n"
     ]
    }
   ],
   "source": [
    "a = collections.OrderedDict()\n",
    "\n",
    "a[1] = 10\n",
    "a[2] = 20\n",
    "a[3] = 30\n",
    "print(a)\n",
    "\n",
    "a.pop(2)\n",
    "\n",
    "print(a)\n",
    "\n",
    "a[2] = 20\n",
    "\n",
    "print(a)\n",
    "\n",
    "a[1] = 100\n",
    "\n",
    "print(a)"
   ]
  },
  {
   "cell_type": "code",
   "execution_count": null,
   "metadata": {},
   "outputs": [],
   "source": [
    "Ref: https://www.geeksforgeeks.org/python-collections-module/"
   ]
  },
  {
   "cell_type": "code",
   "execution_count": 15,
   "metadata": {},
   "outputs": [
    {
     "name": "stdout",
     "output_type": "stream",
     "text": [
      "{4: 'rr', 5: 'gg', 6: 'gh', 7: 'kk'}\n"
     ]
    }
   ],
   "source": [
    "list1 = [4,5,6,7]\n",
    "list2 = [\"rr\",\"gg\",\"gh\",\"kk\"]\n",
    "\n",
    "print(dict(zip(list1,list2)))"
   ]
  },
  {
   "cell_type": "code",
   "execution_count": 3,
   "metadata": {},
   "outputs": [],
   "source": [
    "## Itertools\n",
    "\n",
    "\n",
    "#permutation and combination\n",
    "\n",
    "import itertools\n"
   ]
  },
  {
   "cell_type": "code",
   "execution_count": 4,
   "metadata": {},
   "outputs": [],
   "source": [
    "Li1 = [2,3,4,1]"
   ]
  },
  {
   "cell_type": "code",
   "execution_count": 5,
   "metadata": {},
   "outputs": [],
   "source": [
    "val = list(itertools.permutations(Li1))"
   ]
  },
  {
   "cell_type": "code",
   "execution_count": 6,
   "metadata": {},
   "outputs": [
    {
     "name": "stdout",
     "output_type": "stream",
     "text": [
      "[(2, 3, 4, 1), (2, 3, 1, 4), (2, 4, 3, 1), (2, 4, 1, 3), (2, 1, 3, 4), (2, 1, 4, 3), (3, 2, 4, 1), (3, 2, 1, 4), (3, 4, 2, 1), (3, 4, 1, 2), (3, 1, 2, 4), (3, 1, 4, 2), (4, 2, 3, 1), (4, 2, 1, 3), (4, 3, 2, 1), (4, 3, 1, 2), (4, 1, 2, 3), (4, 1, 3, 2), (1, 2, 3, 4), (1, 2, 4, 3), (1, 3, 2, 4), (1, 3, 4, 2), (1, 4, 2, 3), (1, 4, 3, 2)]\n"
     ]
    }
   ],
   "source": [
    "print(val)"
   ]
  },
  {
   "cell_type": "code",
   "execution_count": 22,
   "metadata": {},
   "outputs": [],
   "source": [
    "val = list(itertools.combinations(Li1,3))"
   ]
  },
  {
   "cell_type": "code",
   "execution_count": 23,
   "metadata": {},
   "outputs": [
    {
     "name": "stdout",
     "output_type": "stream",
     "text": [
      "[(2, 3, 4), (2, 3, 1), (2, 4, 1), (3, 4, 1)]\n"
     ]
    }
   ],
   "source": [
    "print(val)"
   ]
  },
  {
   "cell_type": "code",
   "execution_count": 35,
   "metadata": {},
   "outputs": [],
   "source": [
    "val = list(itertools.combinations(Li1,3))"
   ]
  },
  {
   "cell_type": "code",
   "execution_count": 36,
   "metadata": {},
   "outputs": [
    {
     "name": "stdout",
     "output_type": "stream",
     "text": [
      "[(2, 3, 4), (2, 3, 1), (2, 4, 1), (3, 4, 1)]\n"
     ]
    }
   ],
   "source": [
    "print(val)"
   ]
  },
  {
   "cell_type": "code",
   "execution_count": null,
   "metadata": {},
   "outputs": [],
   "source": [
    "https://www.geeksforgeeks.org/python-itertools/?ref=gcse"
   ]
  },
  {
   "cell_type": "code",
   "execution_count": null,
   "metadata": {},
   "outputs": [],
   "source": [
    "Hackerrank ==> 300 -350\n",
    "\n",
    "prem ==> 200\n",
    "\n"
   ]
  },
  {
   "cell_type": "code",
   "execution_count": 19,
   "metadata": {},
   "outputs": [
    {
     "name": "stdout",
     "output_type": "stream",
     "text": [
      "Else case: 6 * fact(5)\n",
      "Else case: 5 * fact(4)\n",
      "Else case: 4 * fact(3)\n",
      "Else case: 3 * fact(2)\n",
      "Else case: 2 * fact(1)\n",
      "If case 1\n",
      "720\n"
     ]
    }
   ],
   "source": [
    "#recursion\n",
    "\n",
    "\n",
    "#function call itself\n",
    "\n",
    "\n",
    "def fact(n):\n",
    "    if n == 1:\n",
    "        print(\"If case\",n)\n",
    "        return n\n",
    "    else:\n",
    "        print(f\"Else case: {n} * fact({n-1})\")\n",
    "        return n * fact(n-1) \n",
    "    \n",
    "    \n",
    "print(fact(6))"
   ]
  },
  {
   "cell_type": "code",
   "execution_count": null,
   "metadata": {},
   "outputs": [],
   "source": [
    "\n",
    "math\n",
    "statistics\n",
    "os\n",
    "sys\n",
    "collections\n",
    "itertools\n",
    "random\n",
    "\n",
    "date time\n",
    "date\n",
    "time\n",
    "\n",
    "re\n"
   ]
  }
 ],
 "metadata": {
  "kernelspec": {
   "display_name": "Python 3 (ipykernel)",
   "language": "python",
   "name": "python3"
  },
  "language_info": {
   "codemirror_mode": {
    "name": "ipython",
    "version": 3
   },
   "file_extension": ".py",
   "mimetype": "text/x-python",
   "name": "python",
   "nbconvert_exporter": "python",
   "pygments_lexer": "ipython3",
   "version": "3.9.13"
  }
 },
 "nbformat": 4,
 "nbformat_minor": 4
}
