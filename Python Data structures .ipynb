{
 "cells": [
  {
   "cell_type": "code",
   "execution_count": 3,
   "metadata": {},
   "outputs": [
    {
     "name": "stdout",
     "output_type": "stream",
     "text": [
      "['rrrrr', '18/04/1950', 'delhi', 'gurugram', 'second class']\n",
      "second class\n",
      "['rrrrr', 'delhi', 'second class']\n"
     ]
    }
   ],
   "source": [
    "#Data Structures\n",
    "\n",
    "#Multiple values in single variable\n",
    "\n",
    "#storing values efficienly\n",
    "\n",
    "a = \"rrrrr\"\n",
    "\n",
    "b = \"18/04/1950\"\n",
    "\n",
    "c = \"delhi\"\n",
    "\n",
    "d = \"gurugram\"\n",
    "\n",
    "e = \"second class\"\n",
    "\n",
    "\n",
    "List1 = [\"rrrrr\", \"18/04/1950\", \"delhi\", \"gurugram\", \"second class\"]\n",
    "\n",
    "print(List1)\n",
    "\n",
    "#Indexing\n",
    "\n",
    "print(List1[-1])\n",
    "\n",
    "print(List1[::2])"
   ]
  },
  {
   "cell_type": "code",
   "execution_count": null,
   "metadata": {},
   "outputs": [],
   "source": [
    "#heterogenous\n",
    "\n",
    "#List\n",
    "\n",
    "[]\n",
    "Indexing supported or ordered\n",
    "duplicates are allowed\n",
    "concatenation supported\n",
    "Mutable\n",
    "\n",
    "\n",
    "#Tuple\n",
    "\n",
    "() or empty\n",
    "Indexing supported or ordered\n",
    "duplicates are allowed\n",
    "concatenation supported\n",
    "immutable\n",
    "\n",
    "\n",
    "#Set\n",
    "{}\n",
    "Indexing not supported or unordered\n",
    "duplicates are not allowed\n",
    "concatenation not supported\n",
    "Mutable\n",
    "\n",
    "\n",
    "\n",
    "#Dictionary\n",
    "\n",
    "{:}\n",
    "Indexing not supported (key == index) or unordered\n",
    "duplicate keys are not allowed\n",
    "concatenation not supported\n",
    "Mutable\n"
   ]
  },
  {
   "cell_type": "code",
   "execution_count": 5,
   "metadata": {},
   "outputs": [
    {
     "name": "stdout",
     "output_type": "stream",
     "text": [
      "[5, 6, 7, 99, 99, 99, 7, 6, 4, 3, 7, 1]\n"
     ]
    },
    {
     "ename": "TypeError",
     "evalue": "unsupported operand type(s) for +: 'set' and 'set'",
     "output_type": "error",
     "traceback": [
      "\u001b[1;31m---------------------------------------------------------------------------\u001b[0m",
      "\u001b[1;31mTypeError\u001b[0m                                 Traceback (most recent call last)",
      "\u001b[1;32m~\\AppData\\Local\\Temp\\ipykernel_3256\\1629297673.py\u001b[0m in \u001b[0;36m<module>\u001b[1;34m\u001b[0m\n\u001b[0;32m      5\u001b[0m \u001b[0ma\u001b[0m \u001b[1;33m=\u001b[0m \u001b[1;33m{\u001b[0m\u001b[1;36m5\u001b[0m\u001b[1;33m,\u001b[0m\u001b[1;36m6\u001b[0m\u001b[1;33m,\u001b[0m\u001b[1;36m7\u001b[0m\u001b[1;33m,\u001b[0m\u001b[1;36m7\u001b[0m\u001b[1;33m,\u001b[0m\u001b[1;36m8\u001b[0m\u001b[1;33m,\u001b[0m\u001b[1;36m8\u001b[0m\u001b[1;33m}\u001b[0m \u001b[1;31m#set\u001b[0m\u001b[1;33m\u001b[0m\u001b[1;33m\u001b[0m\u001b[0m\n\u001b[0;32m      6\u001b[0m \u001b[0mb\u001b[0m \u001b[1;33m=\u001b[0m \u001b[1;33m{\u001b[0m\u001b[1;36m5\u001b[0m\u001b[1;33m,\u001b[0m\u001b[1;36m6\u001b[0m\u001b[1;33m,\u001b[0m\u001b[1;36m4\u001b[0m\u001b[1;33m,\u001b[0m\u001b[1;36m3\u001b[0m\u001b[1;33m,\u001b[0m\u001b[1;36m1\u001b[0m\u001b[1;33m}\u001b[0m\u001b[1;33m\u001b[0m\u001b[1;33m\u001b[0m\u001b[0m\n\u001b[1;32m----> 7\u001b[1;33m \u001b[0mprint\u001b[0m\u001b[1;33m(\u001b[0m\u001b[0ma\u001b[0m\u001b[1;33m+\u001b[0m\u001b[0mb\u001b[0m\u001b[1;33m)\u001b[0m\u001b[1;33m\u001b[0m\u001b[1;33m\u001b[0m\u001b[0m\n\u001b[0m",
      "\u001b[1;31mTypeError\u001b[0m: unsupported operand type(s) for +: 'set' and 'set'"
     ]
    }
   ],
   "source": [
    "a = [5,6,7,99,99,99,7] #list\n",
    "b = [6,4,3,7,1]\n",
    "print(a+b)\n",
    "\n",
    "a = {5,6,7,7,8,8} #set\n",
    "b = {5,6,4,3,1}\n",
    "print(a+b)"
   ]
  },
  {
   "cell_type": "code",
   "execution_count": 4,
   "metadata": {},
   "outputs": [
    {
     "name": "stdout",
     "output_type": "stream",
     "text": [
      "[3, 4, 5, 6, 'hello', False]\n",
      "<class 'list'>\n"
     ]
    }
   ],
   "source": [
    "#List:\n",
    "\n",
    "li = [3,4,5,6,\"hello\",False] #list \n",
    "\n",
    "print(li)\n",
    "\n",
    "print(type(li))"
   ]
  },
  {
   "cell_type": "code",
   "execution_count": 6,
   "metadata": {},
   "outputs": [
    {
     "name": "stdout",
     "output_type": "stream",
     "text": [
      "['rrrrr', '18/04/1950', 'delhi', 'gurugram', 'second class']\n",
      "second class\n",
      "['rrrrr', 'delhi', 'second class']\n",
      "['second class', 'gurugram', 'delhi', '18/04/1950', 'rrrrr']\n"
     ]
    }
   ],
   "source": [
    "#Indexing supported\n",
    "\n",
    "List1 = [\"rrrrr\", \"18/04/1950\", \"delhi\", \"gurugram\", \"second class\"]\n",
    "\n",
    "print(List1)\n",
    "\n",
    "#Indexing\n",
    "\n",
    "print(List1[-1])\n",
    "\n",
    "print(List1[::2])\n",
    "\n",
    "print(List1[::-1])"
   ]
  },
  {
   "cell_type": "code",
   "execution_count": 7,
   "metadata": {},
   "outputs": [
    {
     "name": "stdout",
     "output_type": "stream",
     "text": [
      "{False, 13, 3, 4, 5, 6, 'hello'}\n",
      "<class 'set'>\n"
     ]
    }
   ],
   "source": [
    "li = {3,4,5,6,\"hello\",False,3,3,3,3,13} #duplicates are not allowed\n",
    "\n",
    "print(li)\n",
    "\n",
    "print(type(li))"
   ]
  },
  {
   "cell_type": "code",
   "execution_count": 7,
   "metadata": {},
   "outputs": [
    {
     "name": "stdout",
     "output_type": "stream",
     "text": [
      "[3, 4, 5, 6, 'hello', False, 3, 3, 3, 3, 13]\n",
      "<class 'list'>\n"
     ]
    }
   ],
   "source": [
    "li = [3,4,5,6,\"hello\",False,3,3,3,3,13] #duplicates are allowed\n",
    "\n",
    "print(li)\n",
    "\n",
    "print(type(li))"
   ]
  },
  {
   "cell_type": "markdown",
   "metadata": {},
   "source": [
    "## List methods"
   ]
  },
  {
   "cell_type": "code",
   "execution_count": 11,
   "metadata": {},
   "outputs": [
    {
     "name": "stdout",
     "output_type": "stream",
     "text": [
      "[]\n",
      "<class 'list'>\n",
      "[]\n",
      "<class 'list'>\n"
     ]
    }
   ],
   "source": [
    "#Creation of empty list\n",
    "\n",
    "li1 = []\n",
    "\n",
    "print(li1)\n",
    "print(type(li1))\n",
    "\n",
    "li2 = list()\n",
    "print(li2)\n",
    "print(type(li2))"
   ]
  },
  {
   "cell_type": "code",
   "execution_count": 12,
   "metadata": {},
   "outputs": [
    {
     "name": "stdout",
     "output_type": "stream",
     "text": [
      "[3, 4, 5, 6, 7, 1, 2, 0, 9, 3, 4]\n"
     ]
    }
   ],
   "source": [
    "#Concatenation\n",
    "\n",
    "li1 = [3,4,5,6,7]\n",
    "li2 = [1,2,0,9,3,4]\n",
    "\n",
    "print(li1 + li2)"
   ]
  },
  {
   "cell_type": "code",
   "execution_count": 1,
   "metadata": {},
   "outputs": [
    {
     "name": "stdout",
     "output_type": "stream",
     "text": [
      "[3, 4, 5, 2, 1, 3, 4, 5, 2, 1, 3, 4, 5, 2, 1]\n"
     ]
    }
   ],
   "source": [
    "Li1 = [3,4,5,2,1]\n",
    "\n",
    "print(Li1 * 3)"
   ]
  },
  {
   "cell_type": "code",
   "execution_count": 13,
   "metadata": {},
   "outputs": [
    {
     "name": "stdout",
     "output_type": "stream",
     "text": [
      "[2, 3, 4, 5, 100, 1, 7, 8, 20]\n"
     ]
    }
   ],
   "source": [
    "#mutable / list assignment possible\n",
    "\n",
    "li1 = [2,3,4,5,6,1,7,8,20]\n",
    "\n",
    "li1[4] = 100\n",
    "\n",
    "print(li1)"
   ]
  },
  {
   "cell_type": "code",
   "execution_count": 1,
   "metadata": {},
   "outputs": [
    {
     "name": "stdout",
     "output_type": "stream",
     "text": [
      "['s', 'a', 'n', 't', 'h', 'o', 's', 'h']\n"
     ]
    }
   ],
   "source": [
    "str1 = \"santhosh\"\n",
    "print(list(str1))"
   ]
  },
  {
   "cell_type": "code",
   "execution_count": 8,
   "metadata": {},
   "outputs": [
    {
     "ename": "TypeError",
     "evalue": "'str' object does not support item assignment",
     "output_type": "error",
     "traceback": [
      "\u001b[1;31m---------------------------------------------------------------------------\u001b[0m",
      "\u001b[1;31mTypeError\u001b[0m                                 Traceback (most recent call last)",
      "\u001b[1;32m~\\AppData\\Local\\Temp\\ipykernel_3256\\4196436127.py\u001b[0m in \u001b[0;36m<module>\u001b[1;34m\u001b[0m\n\u001b[0;32m      1\u001b[0m \u001b[0mstr1\u001b[0m \u001b[1;33m=\u001b[0m \u001b[1;34m\"mathematics\"\u001b[0m\u001b[1;33m\u001b[0m\u001b[1;33m\u001b[0m\u001b[0m\n\u001b[0;32m      2\u001b[0m \u001b[1;33m\u001b[0m\u001b[0m\n\u001b[1;32m----> 3\u001b[1;33m \u001b[0mstr1\u001b[0m\u001b[1;33m[\u001b[0m\u001b[1;36m4\u001b[0m\u001b[1;33m]\u001b[0m \u001b[1;33m=\u001b[0m \u001b[1;34m\"i\"\u001b[0m\u001b[1;33m\u001b[0m\u001b[1;33m\u001b[0m\u001b[0m\n\u001b[0m\u001b[0;32m      4\u001b[0m \u001b[1;33m\u001b[0m\u001b[0m\n\u001b[0;32m      5\u001b[0m \u001b[0mprint\u001b[0m\u001b[1;33m(\u001b[0m\u001b[0mstr1\u001b[0m\u001b[1;33m)\u001b[0m\u001b[1;33m\u001b[0m\u001b[1;33m\u001b[0m\u001b[0m\n",
      "\u001b[1;31mTypeError\u001b[0m: 'str' object does not support item assignment"
     ]
    }
   ],
   "source": [
    "str1 = \"mathematics\"\n",
    "\n",
    "str1[4] = \"i\"\n",
    "\n",
    "print(str1)"
   ]
  },
  {
   "cell_type": "code",
   "execution_count": 16,
   "metadata": {},
   "outputs": [
    {
     "name": "stdout",
     "output_type": "stream",
     "text": [
      "[3, 4, 5, 6, 'hello', 100]\n"
     ]
    }
   ],
   "source": [
    "#append\n",
    "\n",
    "Li1 = [3,4,5,6,\"hello\"]\n",
    "\n",
    "Li1.append(100)\n",
    "\n",
    "print(Li1)"
   ]
  },
  {
   "cell_type": "code",
   "execution_count": 17,
   "metadata": {},
   "outputs": [
    {
     "name": "stdout",
     "output_type": "stream",
     "text": [
      "[3, 4, 5, 1000, 6, 'hello']\n"
     ]
    }
   ],
   "source": [
    "#insert\n",
    "\n",
    "Li1 = [3,4,5,6,\"hello\"]\n",
    "\n",
    "Li1.insert(3,1000) #(index, value)\n",
    "\n",
    "print(Li1)"
   ]
  },
  {
   "cell_type": "code",
   "execution_count": 2,
   "metadata": {},
   "outputs": [
    {
     "name": "stdout",
     "output_type": "stream",
     "text": [
      "[1, 2, 3, 4, 5, 100, 200]\n"
     ]
    }
   ],
   "source": [
    "#extend\n",
    "\n",
    "Li1 = [1,2,3,4,5]\n",
    "Li2 = [100,200]\n",
    "\n",
    "Li1.extend(Li2)\n",
    "print(Li1)\n"
   ]
  },
  {
   "cell_type": "code",
   "execution_count": 22,
   "metadata": {},
   "outputs": [
    {
     "name": "stdout",
     "output_type": "stream",
     "text": [
      "[100, 200, 400, -100, -2]\n",
      "[100, 200, 400, -100]\n"
     ]
    }
   ],
   "source": [
    "#pop\n",
    "\n",
    "Li1 = [100,200,300,400,-100,-2]\n",
    "\n",
    "Li1.pop(2) #index\n",
    "\n",
    "print(Li1)\n",
    "\n",
    "Li1.pop() #append opposite\n",
    "\n",
    "print(Li1)"
   ]
  },
  {
   "cell_type": "code",
   "execution_count": 11,
   "metadata": {},
   "outputs": [
    {
     "ename": "ValueError",
     "evalue": "list.remove(x): x not in list",
     "output_type": "error",
     "traceback": [
      "\u001b[1;31m---------------------------------------------------------------------------\u001b[0m",
      "\u001b[1;31mValueError\u001b[0m                                Traceback (most recent call last)",
      "\u001b[1;32m~\\AppData\\Local\\Temp\\ipykernel_3256\\2750220902.py\u001b[0m in \u001b[0;36m<module>\u001b[1;34m\u001b[0m\n\u001b[0;32m      3\u001b[0m \u001b[0mLi1\u001b[0m \u001b[1;33m=\u001b[0m \u001b[1;33m[\u001b[0m\u001b[1;36m100\u001b[0m\u001b[1;33m,\u001b[0m\u001b[1;36m200\u001b[0m\u001b[1;33m,\u001b[0m\u001b[1;36m300\u001b[0m\u001b[1;33m,\u001b[0m\u001b[1;36m400\u001b[0m\u001b[1;33m,\u001b[0m\u001b[1;33m-\u001b[0m\u001b[1;36m100\u001b[0m\u001b[1;33m,\u001b[0m\u001b[1;33m-\u001b[0m\u001b[1;36m2\u001b[0m\u001b[1;33m,\u001b[0m\u001b[1;36m200\u001b[0m\u001b[1;33m]\u001b[0m\u001b[1;33m\u001b[0m\u001b[1;33m\u001b[0m\u001b[0m\n\u001b[0;32m      4\u001b[0m \u001b[1;33m\u001b[0m\u001b[0m\n\u001b[1;32m----> 5\u001b[1;33m \u001b[0mLi1\u001b[0m\u001b[1;33m.\u001b[0m\u001b[0mremove\u001b[0m\u001b[1;33m(\u001b[0m\u001b[1;36m2000\u001b[0m\u001b[1;33m)\u001b[0m \u001b[1;31m#particular element\u001b[0m\u001b[1;33m\u001b[0m\u001b[1;33m\u001b[0m\u001b[0m\n\u001b[0m\u001b[0;32m      6\u001b[0m \u001b[1;33m\u001b[0m\u001b[0m\n\u001b[0;32m      7\u001b[0m \u001b[0mprint\u001b[0m\u001b[1;33m(\u001b[0m\u001b[0mLi1\u001b[0m\u001b[1;33m)\u001b[0m\u001b[1;33m\u001b[0m\u001b[1;33m\u001b[0m\u001b[0m\n",
      "\u001b[1;31mValueError\u001b[0m: list.remove(x): x not in list"
     ]
    }
   ],
   "source": [
    "#remove\n",
    "\n",
    "Li1 = [100,200,300,400,-100,-2,200]\n",
    "\n",
    "Li1.remove(2000) #particular element\n",
    "\n",
    "print(Li1)"
   ]
  },
  {
   "cell_type": "code",
   "execution_count": 23,
   "metadata": {},
   "outputs": [
    {
     "name": "stdout",
     "output_type": "stream",
     "text": [
      "2\n"
     ]
    },
    {
     "ename": "ValueError",
     "evalue": "4 is not in list",
     "output_type": "error",
     "traceback": [
      "\u001b[1;31m---------------------------------------------------------------------------\u001b[0m",
      "\u001b[1;31mValueError\u001b[0m                                Traceback (most recent call last)",
      "\u001b[1;32m<ipython-input-23-b76090ed7a03>\u001b[0m in \u001b[0;36m<module>\u001b[1;34m\u001b[0m\n\u001b[0;32m      5\u001b[0m \u001b[1;33m\u001b[0m\u001b[0m\n\u001b[0;32m      6\u001b[0m \u001b[0mprint\u001b[0m\u001b[1;33m(\u001b[0m\u001b[0mLi1\u001b[0m\u001b[1;33m.\u001b[0m\u001b[0mindex\u001b[0m\u001b[1;33m(\u001b[0m\u001b[1;36m300\u001b[0m\u001b[1;33m)\u001b[0m\u001b[1;33m)\u001b[0m\u001b[1;33m\u001b[0m\u001b[1;33m\u001b[0m\u001b[0m\n\u001b[1;32m----> 7\u001b[1;33m \u001b[0mprint\u001b[0m\u001b[1;33m(\u001b[0m\u001b[0mLi1\u001b[0m\u001b[1;33m.\u001b[0m\u001b[0mindex\u001b[0m\u001b[1;33m(\u001b[0m\u001b[1;36m4\u001b[0m\u001b[1;33m)\u001b[0m\u001b[1;33m)\u001b[0m\u001b[1;33m\u001b[0m\u001b[1;33m\u001b[0m\u001b[0m\n\u001b[0m",
      "\u001b[1;31mValueError\u001b[0m: 4 is not in list"
     ]
    }
   ],
   "source": [
    "#index\n",
    "\n",
    "Li1 = [100,200,300,400,-100,-2,300]\n",
    "\n",
    "\n",
    "print(Li1.index(300))\n",
    "print(Li1.index(4))\n",
    "\n",
    "#element should be available\n",
    "#it will identify for first existence"
   ]
  },
  {
   "cell_type": "code",
   "execution_count": 24,
   "metadata": {},
   "outputs": [
    {
     "name": "stdout",
     "output_type": "stream",
     "text": [
      "2\n",
      "0\n",
      "1\n"
     ]
    }
   ],
   "source": [
    "#count\n",
    "\n",
    "Li1 = [3,4,5,6,2,1,2,3,4,10]\n",
    "\n",
    "print(Li1.count(3))\n",
    "print(Li1.count(0))\n",
    "print(Li1.count(10))"
   ]
  },
  {
   "cell_type": "code",
   "execution_count": 25,
   "metadata": {},
   "outputs": [
    {
     "name": "stdout",
     "output_type": "stream",
     "text": [
      "[]\n"
     ]
    }
   ],
   "source": [
    "#clear\n",
    "\n",
    "Li1 = [3,4,5,6,2,1,2,3,4,10]\n",
    "\n",
    "Li1.clear()\n",
    "\n",
    "print(Li1)"
   ]
  },
  {
   "cell_type": "code",
   "execution_count": 27,
   "metadata": {},
   "outputs": [
    {
     "name": "stdout",
     "output_type": "stream",
     "text": [
      "[3, 4, 5, 6, 2, 1, 2, 3, 4, 10]\n",
      "[3, 4, 5, 6, 2, 1, 2, 3, 4, 10]\n",
      "[3, 4, 5, 100, 2, 1, 2, 3, 4, 10]\n",
      "[3, 4, 5, 100, 2, 1, 2, 3, 4, 10]\n",
      "1900224939528\n",
      "1900224939528\n"
     ]
    }
   ],
   "source": [
    "#copy\n",
    "Li1 = [3,4,5,6,2,1,2,3,4,10]\n",
    "Li2 = Li1 #shallow copy\n",
    "\n",
    "print(Li1)\n",
    "print(Li2)\n",
    "Li1[3] = 100\n",
    "print(Li1)\n",
    "print(Li2)\n",
    "print(id(Li1))\n",
    "print(id(Li2))"
   ]
  },
  {
   "cell_type": "code",
   "execution_count": 29,
   "metadata": {},
   "outputs": [
    {
     "name": "stdout",
     "output_type": "stream",
     "text": [
      "[3, 4, 5, 6, 2, 1, 2, 3, 4, 10]\n",
      "[3, 4, 5, 6, 2, 1, 2, 3, 4, 10]\n",
      "[3, 4, 5, 100, 2, 1, 2, 3, 4, 10]\n",
      "[3, 4, 5, 6, 2, 1, 2, 3, 4, 10]\n",
      "1900225360200\n",
      "1900225516104\n"
     ]
    }
   ],
   "source": [
    "Li1 = [3,4,5,6,2,1,2,3,4,10]\n",
    "Li2 = Li1.copy() #deep copy\n",
    "\n",
    "print(Li1)\n",
    "print(Li2)\n",
    "Li1[3] = 100\n",
    "print(Li1)\n",
    "print(Li2)\n",
    "print(id(Li1))\n",
    "print(id(Li2))"
   ]
  },
  {
   "cell_type": "code",
   "execution_count": 30,
   "metadata": {},
   "outputs": [
    {
     "name": "stdout",
     "output_type": "stream",
     "text": [
      "[3, 4, 5, 6, 2, 1, 2, 3, 4, 10]\n",
      "[3, 4, 5, 6, 2, 1, 2, 3, 4, 10]\n",
      "[3, 4, 5, 100, 2, 1, 2, 3, 4, 10]\n",
      "[3, 4, 5, 6, 2, 1, 2, 3, 4, 10]\n",
      "1900226501576\n",
      "1900225570184\n"
     ]
    }
   ],
   "source": [
    "Li1 = [3,4,5,6,2,1,2,3,4,10]\n",
    "Li2 = [3,4,5,6,2,1,2,3,4,10]\n",
    "\n",
    "print(Li1)\n",
    "print(Li2)\n",
    "\n",
    "Li1[3] = 100\n",
    "\n",
    "print(Li1)\n",
    "print(Li2)\n",
    "\n",
    "print(id(Li1))\n",
    "print(id(Li2))"
   ]
  },
  {
   "cell_type": "code",
   "execution_count": 31,
   "metadata": {},
   "outputs": [
    {
     "name": "stdout",
     "output_type": "stream",
     "text": [
      "7\n",
      "31\n",
      "1\n",
      "10\n"
     ]
    }
   ],
   "source": [
    "#sum / del / len / min / max\n",
    "\n",
    "Li1 = [2,3,4,5,6,1,10]\n",
    "\n",
    "print(len(Li1))\n",
    "print(sum(Li1))\n",
    "print(min(Li1))\n",
    "print(max(Li1))\n"
   ]
  },
  {
   "cell_type": "code",
   "execution_count": 35,
   "metadata": {},
   "outputs": [
    {
     "name": "stdout",
     "output_type": "stream",
     "text": [
      "[3, 4]\n",
      "[4]\n"
     ]
    },
    {
     "ename": "NameError",
     "evalue": "name 'Li1' is not defined",
     "output_type": "error",
     "traceback": [
      "\u001b[1;31m---------------------------------------------------------------------------\u001b[0m",
      "\u001b[1;31mNameError\u001b[0m                                 Traceback (most recent call last)",
      "\u001b[1;32m<ipython-input-35-13c15108e158>\u001b[0m in \u001b[0;36m<module>\u001b[1;34m\u001b[0m\n\u001b[0;32m     13\u001b[0m \u001b[1;32mdel\u001b[0m \u001b[0mLi1\u001b[0m\u001b[1;33m\u001b[0m\u001b[1;33m\u001b[0m\u001b[0m\n\u001b[0;32m     14\u001b[0m \u001b[1;33m\u001b[0m\u001b[0m\n\u001b[1;32m---> 15\u001b[1;33m \u001b[0mprint\u001b[0m\u001b[1;33m(\u001b[0m\u001b[0mLi1\u001b[0m\u001b[1;33m)\u001b[0m\u001b[1;33m\u001b[0m\u001b[1;33m\u001b[0m\u001b[0m\n\u001b[0m",
      "\u001b[1;31mNameError\u001b[0m: name 'Li1' is not defined"
     ]
    }
   ],
   "source": [
    "#del\n",
    "\n",
    "Li1 = [3,4,5,6,1]\n",
    "\n",
    "del Li1[2:]\n",
    "\n",
    "print(Li1)\n",
    "\n",
    "del Li1[0]\n",
    "\n",
    "print(Li1)\n",
    "\n",
    "del Li1\n",
    "\n",
    "print(Li1)\n"
   ]
  },
  {
   "cell_type": "code",
   "execution_count": 44,
   "metadata": {},
   "outputs": [
    {
     "name": "stdout",
     "output_type": "stream",
     "text": [
      "[-1, 0, 1, 2, 3, 4, 5, 6]\n"
     ]
    }
   ],
   "source": [
    "Li1 = [3,4,5,6,2,1,-1,0]\n",
    "\n",
    "Li1.sort() #ascending order\n",
    "print(Li1)"
   ]
  },
  {
   "cell_type": "code",
   "execution_count": 40,
   "metadata": {},
   "outputs": [
    {
     "name": "stdout",
     "output_type": "stream",
     "text": [
      "[0, -1, 1, 2, 6, 5, 4, 3]\n"
     ]
    }
   ],
   "source": [
    "Li1 = [3,4,5,6,2,1,-1,0]\n",
    "\n",
    "Li1.reverse()\n",
    "print(Li1)"
   ]
  },
  {
   "cell_type": "code",
   "execution_count": 41,
   "metadata": {},
   "outputs": [
    {
     "name": "stdout",
     "output_type": "stream",
     "text": [
      "[6, 5, 4, 3, 2, 1, 0, -1]\n"
     ]
    }
   ],
   "source": [
    "Li1 = [3,4,5,6,2,1,-1,0]\n",
    "\n",
    "Li1.sort(reverse=True) #descending order\n",
    "print(Li1)"
   ]
  },
  {
   "cell_type": "code",
   "execution_count": null,
   "metadata": {},
   "outputs": [],
   "source": [
    "https://www.w3schools.com/python/python_ref_list.asp\n",
    "https://www.w3schools.com/python/python_lists_methods.asp"
   ]
  },
  {
   "cell_type": "code",
   "execution_count": null,
   "metadata": {},
   "outputs": [],
   "source": [
    "#Median\n",
    "\n",
    "Li1 = [3,4,5,6,7,1,2,0,-1]\n",
    "\n",
    "#check number of elements \n",
    "\n",
    "#if no of elements are odd\n",
    "\n",
    "Li1 = [3,4,5,6,7,1,2,0,-1] #==>\n",
    "\n",
    "Li1 = [10, 20 , 30, 40,5, 3, 25, 1000000]  #median\n",
    "\n",
    "#arrange the data ascending or order\n",
    "\n",
    "#3, 5, 10 , 20 , 25, 30 , 40 , 10000000   ===> 25\n",
    "\n",
    "#3, 5, 10 , 20 , 25, 30 , 35,  40 , 10000000  ==> 25 + 30 / 2 ==> 27.5\n",
    "\n",
    "#data representation"
   ]
  },
  {
   "cell_type": "code",
   "execution_count": null,
   "metadata": {},
   "outputs": [],
   "source": [
    "#Duplicate removal\n",
    "\n"
   ]
  },
  {
   "cell_type": "markdown",
   "metadata": {},
   "source": [
    "## Tuple Methods"
   ]
  },
  {
   "cell_type": "code",
   "execution_count": null,
   "metadata": {},
   "outputs": [],
   "source": [
    "#indexing / slicing / ordering\n",
    "#supports duplicates values\n",
    "#immutable\n",
    "#supports concatenation\n",
    "#() or without any braces\n"
   ]
  },
  {
   "cell_type": "code",
   "execution_count": 2,
   "metadata": {},
   "outputs": [
    {
     "name": "stdout",
     "output_type": "stream",
     "text": [
      "(6, 7, 3, 3)\n"
     ]
    }
   ],
   "source": [
    "#indexing\n",
    "\n",
    "tup1 = (4,5,6,7,3,3)\n",
    "\n",
    "print(tup1[2:])"
   ]
  },
  {
   "cell_type": "code",
   "execution_count": 1,
   "metadata": {},
   "outputs": [
    {
     "name": "stdout",
     "output_type": "stream",
     "text": [
      "(6, 7, 3, 3)\n"
     ]
    }
   ],
   "source": [
    "tup1 = 4,5,6,7,3,3\n",
    "\n",
    "print(tup1[2:])"
   ]
  },
  {
   "cell_type": "code",
   "execution_count": 3,
   "metadata": {},
   "outputs": [
    {
     "ename": "TypeError",
     "evalue": "'tuple' object does not support item assignment",
     "output_type": "error",
     "traceback": [
      "\u001b[1;31m---------------------------------------------------------------------------\u001b[0m",
      "\u001b[1;31mTypeError\u001b[0m                                 Traceback (most recent call last)",
      "\u001b[1;32m<ipython-input-3-a35a714ab2e3>\u001b[0m in \u001b[0;36m<module>\u001b[1;34m\u001b[0m\n\u001b[0;32m      1\u001b[0m \u001b[0mtup1\u001b[0m \u001b[1;33m=\u001b[0m \u001b[1;33m(\u001b[0m\u001b[1;36m4\u001b[0m\u001b[1;33m,\u001b[0m\u001b[1;36m5\u001b[0m\u001b[1;33m,\u001b[0m\u001b[1;36m6\u001b[0m\u001b[1;33m,\u001b[0m\u001b[1;36m7\u001b[0m\u001b[1;33m,\u001b[0m\u001b[1;36m3\u001b[0m\u001b[1;33m,\u001b[0m\u001b[1;36m3\u001b[0m\u001b[1;33m)\u001b[0m\u001b[1;33m\u001b[0m\u001b[1;33m\u001b[0m\u001b[0m\n\u001b[0;32m      2\u001b[0m \u001b[1;33m\u001b[0m\u001b[0m\n\u001b[1;32m----> 3\u001b[1;33m \u001b[0mtup1\u001b[0m\u001b[1;33m[\u001b[0m\u001b[1;33m-\u001b[0m\u001b[1;36m1\u001b[0m\u001b[1;33m]\u001b[0m \u001b[1;33m=\u001b[0m \u001b[1;36m100\u001b[0m\u001b[1;33m\u001b[0m\u001b[1;33m\u001b[0m\u001b[0m\n\u001b[0m\u001b[0;32m      4\u001b[0m \u001b[1;33m\u001b[0m\u001b[0m\n\u001b[0;32m      5\u001b[0m \u001b[0mprint\u001b[0m\u001b[1;33m(\u001b[0m\u001b[0mtup1\u001b[0m\u001b[1;33m)\u001b[0m\u001b[1;33m\u001b[0m\u001b[1;33m\u001b[0m\u001b[0m\n",
      "\u001b[1;31mTypeError\u001b[0m: 'tuple' object does not support item assignment"
     ]
    }
   ],
   "source": [
    "tup1 = (4,5,6,7,3,3) #tuple\n",
    "\n",
    "tup1[-1] = 100\n",
    "\n",
    "print(tup1)"
   ]
  },
  {
   "cell_type": "code",
   "execution_count": 4,
   "metadata": {},
   "outputs": [
    {
     "name": "stdout",
     "output_type": "stream",
     "text": [
      "[4, 5, 6, 7, 3, 100]\n"
     ]
    }
   ],
   "source": [
    "tup1 = [4,5,6,7,3,3]#list\n",
    "\n",
    "tup1[-1] = 100\n",
    "\n",
    "print(tup1)"
   ]
  },
  {
   "cell_type": "code",
   "execution_count": 6,
   "metadata": {},
   "outputs": [
    {
     "name": "stdout",
     "output_type": "stream",
     "text": [
      "(4, 5, 6, 7, 3, 3, 100, 200, 300, 40, 50)\n",
      "(4, 5, 6, 7, 3, 3)\n",
      "(100, 200, 300, 40, 50)\n"
     ]
    }
   ],
   "source": [
    "tup1 = (4,5,6,7,3,3)\n",
    "tup2 = (100,200,300,40,50)\n",
    "\n",
    "print(tup1 + tup2)\n",
    "print(tup1)\n",
    "print(tup2)"
   ]
  },
  {
   "cell_type": "code",
   "execution_count": 2,
   "metadata": {},
   "outputs": [
    {
     "name": "stdout",
     "output_type": "stream",
     "text": [
      "()\n",
      "<class 'tuple'>\n",
      "()\n",
      "<class 'tuple'>\n"
     ]
    }
   ],
   "source": [
    "#How to create empty tuple\n",
    "\n",
    "tup1 = tuple()\n",
    "\n",
    "print(tup1)\n",
    "print(type(tup1))\n",
    "\n",
    "tup2 = ()\n",
    "\n",
    "print(tup2)\n",
    "print(type(tup2))\n",
    "\n"
   ]
  },
  {
   "cell_type": "code",
   "execution_count": 4,
   "metadata": {},
   "outputs": [
    {
     "name": "stdout",
     "output_type": "stream",
     "text": [
      "(10, 11, 13)\n",
      "<class 'tuple'>\n",
      "(10, 11, 13)\n",
      "<class 'tuple'>\n",
      "10\n",
      "<class 'int'>\n",
      "(103,)\n",
      "<class 'tuple'>\n"
     ]
    }
   ],
   "source": [
    "val1 = 10,11,13 #error   #tuple\n",
    "\n",
    "print(val1)\n",
    "print(type(val1))\n",
    "\n",
    "val1 = (10,11,13) #tuple  #tuple\n",
    "\n",
    "print(val1)\n",
    "print(type(val1))\n",
    "\n",
    "val1 = (10) #tuple  #tuple #int\n",
    "\n",
    "print(val1)\n",
    "print(type(val1))\n",
    "\n",
    "\n",
    "val1 = (103,) #error  #tuple\n",
    "\n",
    "print(val1)\n",
    "print(type(val1))"
   ]
  },
  {
   "cell_type": "code",
   "execution_count": null,
   "metadata": {},
   "outputs": [],
   "source": []
  },
  {
   "cell_type": "code",
   "execution_count": 10,
   "metadata": {},
   "outputs": [
    {
     "name": "stdout",
     "output_type": "stream",
     "text": [
      "(10,)\n",
      "<class 'tuple'>\n",
      "(10,)\n",
      "<class 'tuple'>\n"
     ]
    }
   ],
   "source": [
    "#Tuple with multiple elements\n",
    "\n",
    "tup1 = (10,)\n",
    "\n",
    "print(tup1)\n",
    "print(type(tup1))\n",
    "\n",
    "tup2 = 10,\n",
    "\n",
    "print(tup2)\n",
    "print(type(tup2))"
   ]
  },
  {
   "cell_type": "code",
   "execution_count": 5,
   "metadata": {},
   "outputs": [
    {
     "name": "stdout",
     "output_type": "stream",
     "text": [
      "(10,)\n",
      "<class 'tuple'>\n",
      "10\n",
      "<class 'int'>\n"
     ]
    }
   ],
   "source": [
    "tup3 = (10)\n",
    "\n",
    "print(tup3)\n",
    "print(type(tup3))\n",
    "\n",
    "tup4 = 10\n",
    "print(tup4)\n",
    "print(type(tup4))"
   ]
  },
  {
   "cell_type": "code",
   "execution_count": 11,
   "metadata": {},
   "outputs": [
    {
     "name": "stdout",
     "output_type": "stream",
     "text": [
      "4\n"
     ]
    }
   ],
   "source": [
    "#index\n",
    "\n",
    "tup1 = (4,5,6,3,2,1)\n",
    "\n",
    "print(tup1.index(2))"
   ]
  },
  {
   "cell_type": "code",
   "execution_count": 12,
   "metadata": {},
   "outputs": [
    {
     "name": "stdout",
     "output_type": "stream",
     "text": [
      "1\n"
     ]
    }
   ],
   "source": [
    "#count\n",
    "\n",
    "tup1 = (4,5,6,3,2,1)\n",
    "\n",
    "print(tup1.count(2))"
   ]
  },
  {
   "cell_type": "code",
   "execution_count": 23,
   "metadata": {
    "scrolled": true
   },
   "outputs": [
    {
     "ename": "AttributeError",
     "evalue": "'tuple' object has no attribute 'pop'",
     "output_type": "error",
     "traceback": [
      "\u001b[1;31m---------------------------------------------------------------------------\u001b[0m",
      "\u001b[1;31mAttributeError\u001b[0m                            Traceback (most recent call last)",
      "\u001b[1;32m<ipython-input-23-fdca45ee7ae8>\u001b[0m in \u001b[0;36m<module>\u001b[1;34m\u001b[0m\n\u001b[0;32m      1\u001b[0m \u001b[0mtup1\u001b[0m \u001b[1;33m=\u001b[0m \u001b[1;33m(\u001b[0m\u001b[1;36m4\u001b[0m\u001b[1;33m,\u001b[0m\u001b[1;36m5\u001b[0m\u001b[1;33m,\u001b[0m\u001b[1;36m6\u001b[0m\u001b[1;33m,\u001b[0m\u001b[1;36m3\u001b[0m\u001b[1;33m,\u001b[0m\u001b[1;36m2\u001b[0m\u001b[1;33m,\u001b[0m\u001b[1;36m1\u001b[0m\u001b[1;33m)\u001b[0m\u001b[1;33m\u001b[0m\u001b[1;33m\u001b[0m\u001b[0m\n\u001b[0;32m      2\u001b[0m \u001b[1;33m\u001b[0m\u001b[0m\n\u001b[1;32m----> 3\u001b[1;33m \u001b[0mtup1\u001b[0m\u001b[1;33m.\u001b[0m\u001b[0mpop\u001b[0m\u001b[1;33m(\u001b[0m\u001b[1;33m)\u001b[0m\u001b[1;33m\u001b[0m\u001b[1;33m\u001b[0m\u001b[0m\n\u001b[0m",
      "\u001b[1;31mAttributeError\u001b[0m: 'tuple' object has no attribute 'pop'"
     ]
    }
   ],
   "source": [
    "tup1 = (4,5,6,3,2,1)\n",
    "\n",
    "tup1.pop()"
   ]
  },
  {
   "cell_type": "code",
   "execution_count": 18,
   "metadata": {},
   "outputs": [
    {
     "name": "stdout",
     "output_type": "stream",
     "text": [
      "6\n",
      "1\n",
      "6\n",
      "21\n"
     ]
    }
   ],
   "source": [
    "#sum / len / min / max / del \n",
    "\n",
    "tup1 = (4,5,6,3,2,1)\n",
    "\n",
    "print(len(tup1))\n",
    "\n",
    "print(min(tup1))\n",
    "\n",
    "print(max(tup1))\n",
    "\n",
    "print(sum(tup1))\n",
    "\n",
    "del tup1"
   ]
  },
  {
   "cell_type": "code",
   "execution_count": 3,
   "metadata": {},
   "outputs": [
    {
     "name": "stdout",
     "output_type": "stream",
     "text": [
      "(3, 4, 5, 2, 1, 3, 4, 5, 2, 1, 3, 4, 5, 2, 1)\n"
     ]
    }
   ],
   "source": [
    "#multiplication *\n",
    "\n",
    "Li1 = 3,4,5,2,1\n",
    "\n",
    "print(Li1 * 3)"
   ]
  },
  {
   "cell_type": "markdown",
   "metadata": {},
   "source": [
    "## Set Methods"
   ]
  },
  {
   "cell_type": "code",
   "execution_count": null,
   "metadata": {},
   "outputs": [],
   "source": [
    "#no indexing / no ordering\n",
    "#does not allow duplicates\n",
    "#concatenation is not possible\n",
    "#mutable\n",
    "#{individual elements}\n"
   ]
  },
  {
   "cell_type": "code",
   "execution_count": 19,
   "metadata": {},
   "outputs": [
    {
     "ename": "TypeError",
     "evalue": "'set' object is not subscriptable",
     "output_type": "error",
     "traceback": [
      "\u001b[1;31m---------------------------------------------------------------------------\u001b[0m",
      "\u001b[1;31mTypeError\u001b[0m                                 Traceback (most recent call last)",
      "\u001b[1;32m<ipython-input-19-b47dceff9521>\u001b[0m in \u001b[0;36m<module>\u001b[1;34m\u001b[0m\n\u001b[0;32m      1\u001b[0m \u001b[0mset1\u001b[0m \u001b[1;33m=\u001b[0m \u001b[1;33m{\u001b[0m\u001b[1;36m3\u001b[0m\u001b[1;33m,\u001b[0m\u001b[1;36m4\u001b[0m\u001b[1;33m,\u001b[0m\u001b[1;36m5\u001b[0m\u001b[1;33m,\u001b[0m\u001b[1;36m6\u001b[0m\u001b[1;33m,\u001b[0m\u001b[1;36m10\u001b[0m\u001b[1;33m}\u001b[0m\u001b[1;33m\u001b[0m\u001b[1;33m\u001b[0m\u001b[0m\n\u001b[0;32m      2\u001b[0m \u001b[1;33m\u001b[0m\u001b[0m\n\u001b[1;32m----> 3\u001b[1;33m \u001b[0mprint\u001b[0m\u001b[1;33m(\u001b[0m\u001b[0mset1\u001b[0m\u001b[1;33m[\u001b[0m\u001b[1;36m0\u001b[0m\u001b[1;33m]\u001b[0m\u001b[1;33m)\u001b[0m\u001b[1;33m\u001b[0m\u001b[1;33m\u001b[0m\u001b[0m\n\u001b[0m",
      "\u001b[1;31mTypeError\u001b[0m: 'set' object is not subscriptable"
     ]
    }
   ],
   "source": [
    "set1 = {3,4,5,6,10}\n",
    "\n",
    "print(set1[0])"
   ]
  },
  {
   "cell_type": "code",
   "execution_count": 1,
   "metadata": {},
   "outputs": [
    {
     "name": "stdout",
     "output_type": "stream",
     "text": [
      "{0, 3, 4, 5, 6, 10, -100, -1}\n"
     ]
    }
   ],
   "source": [
    "set1 = {3,4,5,6,10,3,4,0,0,0,3,3,4,4,5,5, -1, -100}\n",
    "\n",
    "print(set1) #removes duplicates by default"
   ]
  },
  {
   "cell_type": "code",
   "execution_count": 22,
   "metadata": {},
   "outputs": [
    {
     "ename": "TypeError",
     "evalue": "unsupported operand type(s) for +: 'set' and 'set'",
     "output_type": "error",
     "traceback": [
      "\u001b[1;31m---------------------------------------------------------------------------\u001b[0m",
      "\u001b[1;31mTypeError\u001b[0m                                 Traceback (most recent call last)",
      "\u001b[1;32m<ipython-input-22-464f392b95b1>\u001b[0m in \u001b[0;36m<module>\u001b[1;34m\u001b[0m\n\u001b[0;32m      3\u001b[0m \u001b[0mset2\u001b[0m \u001b[1;33m=\u001b[0m \u001b[1;33m{\u001b[0m\u001b[1;36m11\u001b[0m\u001b[1;33m,\u001b[0m\u001b[1;36m12\u001b[0m\u001b[1;33m,\u001b[0m\u001b[1;36m13\u001b[0m\u001b[1;33m,\u001b[0m\u001b[1;36m14\u001b[0m\u001b[1;33m}\u001b[0m\u001b[1;33m\u001b[0m\u001b[1;33m\u001b[0m\u001b[0m\n\u001b[0;32m      4\u001b[0m \u001b[1;33m\u001b[0m\u001b[0m\n\u001b[1;32m----> 5\u001b[1;33m \u001b[0mprint\u001b[0m\u001b[1;33m(\u001b[0m\u001b[0mset1\u001b[0m \u001b[1;33m+\u001b[0m \u001b[0mset2\u001b[0m\u001b[1;33m)\u001b[0m\u001b[1;33m\u001b[0m\u001b[1;33m\u001b[0m\u001b[0m\n\u001b[0m",
      "\u001b[1;31mTypeError\u001b[0m: unsupported operand type(s) for +: 'set' and 'set'"
     ]
    }
   ],
   "source": [
    "set1 = {4,5,6,3,10}\n",
    "\n",
    "set2 = {11,12,13,14}\n",
    "\n",
    "print(set1 + set2)"
   ]
  },
  {
   "cell_type": "code",
   "execution_count": 24,
   "metadata": {},
   "outputs": [
    {
     "name": "stdout",
     "output_type": "stream",
     "text": [
      "<class 'dict'>\n",
      "<class 'set'>\n"
     ]
    }
   ],
   "source": [
    "#how to create empty set\n",
    "\n",
    "set3 = {}\n",
    "\n",
    "print(type(set3))\n",
    "\n",
    "set3 = set()\n",
    "\n",
    "print(type(set3))"
   ]
  },
  {
   "cell_type": "code",
   "execution_count": 27,
   "metadata": {},
   "outputs": [
    {
     "name": "stdout",
     "output_type": "stream",
     "text": [
      "[2, 3, 4]\n"
     ]
    }
   ],
   "source": [
    "Li1 = [2,3,4,2,3,4,2,3]\n",
    "\n",
    "print(list(set(Li1)))\n",
    "\n",
    "\n",
    "#Data struct conversion\n",
    "#tuple\n",
    "#set\n",
    "#list"
   ]
  },
  {
   "cell_type": "code",
   "execution_count": 18,
   "metadata": {},
   "outputs": [
    {
     "name": "stdout",
     "output_type": "stream",
     "text": [
      "[2, 3, 4, 5]\n"
     ]
    }
   ],
   "source": [
    "Li1 = [2,3,4,2,3,4,2,3,5]\n",
    "\n",
    "temp = []\n",
    "\n",
    "for i in Li1:\n",
    "    if i not in temp:\n",
    "        temp.append(i)\n",
    "print(temp)"
   ]
  },
  {
   "cell_type": "code",
   "execution_count": 28,
   "metadata": {},
   "outputs": [
    {
     "ename": "TypeError",
     "evalue": "'set' object does not support item assignment",
     "output_type": "error",
     "traceback": [
      "\u001b[1;31m---------------------------------------------------------------------------\u001b[0m",
      "\u001b[1;31mTypeError\u001b[0m                                 Traceback (most recent call last)",
      "\u001b[1;32m<ipython-input-28-6538a40ca4b2>\u001b[0m in \u001b[0;36m<module>\u001b[1;34m\u001b[0m\n\u001b[0;32m      3\u001b[0m \u001b[0mset1\u001b[0m \u001b[1;33m=\u001b[0m \u001b[1;33m{\u001b[0m\u001b[1;36m3\u001b[0m\u001b[1;33m,\u001b[0m\u001b[1;36m4\u001b[0m\u001b[1;33m,\u001b[0m\u001b[1;36m5\u001b[0m\u001b[1;33m,\u001b[0m\u001b[1;36m2\u001b[0m\u001b[1;33m,\u001b[0m\u001b[1;36m1\u001b[0m\u001b[1;33m}\u001b[0m\u001b[1;33m\u001b[0m\u001b[1;33m\u001b[0m\u001b[0m\n\u001b[0;32m      4\u001b[0m \u001b[1;33m\u001b[0m\u001b[0m\n\u001b[1;32m----> 5\u001b[1;33m \u001b[0mset1\u001b[0m\u001b[1;33m[\u001b[0m\u001b[1;36m0\u001b[0m\u001b[1;33m]\u001b[0m \u001b[1;33m=\u001b[0m \u001b[1;36m100\u001b[0m\u001b[1;33m\u001b[0m\u001b[1;33m\u001b[0m\u001b[0m\n\u001b[0m\u001b[0;32m      6\u001b[0m \u001b[1;33m\u001b[0m\u001b[0m\n\u001b[0;32m      7\u001b[0m \u001b[0mprint\u001b[0m\u001b[1;33m(\u001b[0m\u001b[0mset1\u001b[0m\u001b[1;33m)\u001b[0m\u001b[1;33m\u001b[0m\u001b[1;33m\u001b[0m\u001b[0m\n",
      "\u001b[1;31mTypeError\u001b[0m: 'set' object does not support item assignment"
     ]
    }
   ],
   "source": [
    "#add elements\n",
    "\n",
    "set1 = {3,4,5,2,1}\n",
    "\n",
    "set1[0] = 100\n",
    "\n",
    "print(set1)"
   ]
  },
  {
   "cell_type": "code",
   "execution_count": 30,
   "metadata": {},
   "outputs": [
    {
     "name": "stdout",
     "output_type": "stream",
     "text": [
      "{1, 2, 3, 4, 5, 20}\n"
     ]
    }
   ],
   "source": [
    "set1 = {3,4,5,2,1}\n",
    "\n",
    "set1.add(20)\n",
    "\n",
    "print(set1)"
   ]
  },
  {
   "cell_type": "code",
   "execution_count": 31,
   "metadata": {},
   "outputs": [
    {
     "name": "stdout",
     "output_type": "stream",
     "text": [
      "{0, 1, 2, 3, 4, 5, 6, 7, 8, 9}\n"
     ]
    }
   ],
   "source": [
    "set1 = {3,4,5,2,1}\n",
    "\n",
    "set2 = {5,6,7,8,9,0}\n",
    "\n",
    "set1.update(set2)\n",
    "\n",
    "print(set1)"
   ]
  },
  {
   "cell_type": "code",
   "execution_count": 32,
   "metadata": {},
   "outputs": [
    {
     "name": "stdout",
     "output_type": "stream",
     "text": [
      "{1, 3, 4, 5}\n"
     ]
    },
    {
     "ename": "KeyError",
     "evalue": "-1",
     "output_type": "error",
     "traceback": [
      "\u001b[1;31m---------------------------------------------------------------------------\u001b[0m",
      "\u001b[1;31mKeyError\u001b[0m                                  Traceback (most recent call last)",
      "\u001b[1;32m<ipython-input-32-c0e6503a8b47>\u001b[0m in \u001b[0;36m<module>\u001b[1;34m\u001b[0m\n\u001b[0;32m      4\u001b[0m \u001b[0mset1\u001b[0m\u001b[1;33m.\u001b[0m\u001b[0mremove\u001b[0m\u001b[1;33m(\u001b[0m\u001b[1;36m2\u001b[0m\u001b[1;33m)\u001b[0m\u001b[1;33m\u001b[0m\u001b[1;33m\u001b[0m\u001b[0m\n\u001b[0;32m      5\u001b[0m \u001b[0mprint\u001b[0m\u001b[1;33m(\u001b[0m\u001b[0mset1\u001b[0m\u001b[1;33m)\u001b[0m\u001b[1;33m\u001b[0m\u001b[1;33m\u001b[0m\u001b[0m\n\u001b[1;32m----> 6\u001b[1;33m \u001b[0mset1\u001b[0m\u001b[1;33m.\u001b[0m\u001b[0mremove\u001b[0m\u001b[1;33m(\u001b[0m\u001b[1;33m-\u001b[0m\u001b[1;36m1\u001b[0m\u001b[1;33m)\u001b[0m\u001b[1;33m\u001b[0m\u001b[1;33m\u001b[0m\u001b[0m\n\u001b[0m\u001b[0;32m      7\u001b[0m \u001b[0mprint\u001b[0m\u001b[1;33m(\u001b[0m\u001b[0mset1\u001b[0m\u001b[1;33m)\u001b[0m\u001b[1;33m\u001b[0m\u001b[1;33m\u001b[0m\u001b[0m\n",
      "\u001b[1;31mKeyError\u001b[0m: -1"
     ]
    }
   ],
   "source": [
    "#remove\n",
    "\n",
    "set1 = {3,4,5,2,1}\n",
    "set1.remove(2)\n",
    "print(set1)\n",
    "set1.remove(-1)\n",
    "print(set1)\n"
   ]
  },
  {
   "cell_type": "code",
   "execution_count": 33,
   "metadata": {},
   "outputs": [
    {
     "name": "stdout",
     "output_type": "stream",
     "text": [
      "{1, 3, 4, 5}\n",
      "{1, 3, 4, 5}\n"
     ]
    }
   ],
   "source": [
    "#discard\n",
    "\n",
    "set1 = {3,4,5,2,1}\n",
    "set1.discard(2)\n",
    "print(set1)\n",
    "set1.discard(-1)\n",
    "print(set1)"
   ]
  },
  {
   "cell_type": "code",
   "execution_count": 24,
   "metadata": {},
   "outputs": [
    {
     "name": "stdout",
     "output_type": "stream",
     "text": [
      "{2, 3, 4, 5}\n"
     ]
    }
   ],
   "source": [
    "#pop\n",
    "\n",
    "set1 = {3,4,5,2,1}\n",
    "set1.pop()\n",
    "\n",
    "print(set1)"
   ]
  },
  {
   "cell_type": "code",
   "execution_count": 2,
   "metadata": {},
   "outputs": [
    {
     "ename": "TypeError",
     "evalue": "unsupported operand type(s) for *: 'set' and 'int'",
     "output_type": "error",
     "traceback": [
      "\u001b[1;31m---------------------------------------------------------------------------\u001b[0m",
      "\u001b[1;31mTypeError\u001b[0m                                 Traceback (most recent call last)",
      "\u001b[1;32m<ipython-input-2-d51dda3459b1>\u001b[0m in \u001b[0;36m<module>\u001b[1;34m\u001b[0m\n\u001b[0;32m      3\u001b[0m \u001b[0mLi1\u001b[0m \u001b[1;33m=\u001b[0m \u001b[1;33m{\u001b[0m\u001b[1;36m3\u001b[0m\u001b[1;33m,\u001b[0m\u001b[1;36m4\u001b[0m\u001b[1;33m,\u001b[0m\u001b[1;36m5\u001b[0m\u001b[1;33m,\u001b[0m\u001b[1;36m2\u001b[0m\u001b[1;33m,\u001b[0m\u001b[1;36m1\u001b[0m\u001b[1;33m}\u001b[0m\u001b[1;33m\u001b[0m\u001b[1;33m\u001b[0m\u001b[0m\n\u001b[0;32m      4\u001b[0m \u001b[1;33m\u001b[0m\u001b[0m\n\u001b[1;32m----> 5\u001b[1;33m \u001b[0mprint\u001b[0m\u001b[1;33m(\u001b[0m\u001b[0mLi1\u001b[0m \u001b[1;33m*\u001b[0m \u001b[1;36m3\u001b[0m\u001b[1;33m)\u001b[0m\u001b[1;33m\u001b[0m\u001b[1;33m\u001b[0m\u001b[0m\n\u001b[0m",
      "\u001b[1;31mTypeError\u001b[0m: unsupported operand type(s) for *: 'set' and 'int'"
     ]
    }
   ],
   "source": [
    "#multiplication *\n",
    "\n",
    "Li1 = {3,4,5,2,1}\n",
    "\n",
    "print(Li1 * 3)"
   ]
  },
  {
   "cell_type": "code",
   "execution_count": 5,
   "metadata": {},
   "outputs": [
    {
     "name": "stdout",
     "output_type": "stream",
     "text": [
      "set()\n",
      "[]\n"
     ]
    }
   ],
   "source": [
    "#clear / copy \n",
    "\n",
    "set1 = {5,6,7,4}\n",
    "\n",
    "set1.clear()\n",
    "\n",
    "print(set1)\n",
    "\n",
    "Li1 = [5,6,7,4]\n",
    "\n",
    "Li1.clear()\n",
    "\n",
    "print(Li1)"
   ]
  },
  {
   "cell_type": "code",
   "execution_count": 6,
   "metadata": {},
   "outputs": [
    {
     "name": "stdout",
     "output_type": "stream",
     "text": [
      "{2, 3, 4, 5}\n",
      "{2, 3, 4, 5}\n",
      "1695549745192\n",
      "1695549746536\n"
     ]
    }
   ],
   "source": [
    "#copy\n",
    "\n",
    "set1 = {3,4,5,2}\n",
    "\n",
    "set2 = set1.copy()\n",
    "\n",
    "print(set1)\n",
    "print(set2)\n",
    "print(id(set1))\n",
    "print(id(set2))"
   ]
  },
  {
   "cell_type": "code",
   "execution_count": 7,
   "metadata": {},
   "outputs": [
    {
     "name": "stdout",
     "output_type": "stream",
     "text": [
      "5\n",
      "5\n",
      "40\n",
      "105\n"
     ]
    }
   ],
   "source": [
    "#sum / del / min / max / len\n",
    "\n",
    "set1 = {10,20,30,40,5}\n",
    "\n",
    "print(len(set1))\n",
    "print(min(set1))\n",
    "print(max(set1))\n",
    "print(sum(set1))\n"
   ]
  },
  {
   "cell_type": "code",
   "execution_count": 8,
   "metadata": {},
   "outputs": [],
   "source": [
    "del set1"
   ]
  },
  {
   "cell_type": "code",
   "execution_count": 9,
   "metadata": {},
   "outputs": [
    {
     "name": "stdout",
     "output_type": "stream",
     "text": [
      "{0, 1, 2, 3, 4, 5, 6, -2, -3, -1}\n"
     ]
    }
   ],
   "source": [
    "#Union\n",
    "\n",
    "set1 = {1,2,3,4,5,-1}\n",
    "set2 = {1,0,-1,-2,-3,6}\n",
    "\n",
    "set3 = set1.union(set2)\n",
    "\n",
    "print(set3)"
   ]
  },
  {
   "cell_type": "code",
   "execution_count": 10,
   "metadata": {},
   "outputs": [
    {
     "name": "stdout",
     "output_type": "stream",
     "text": [
      "{1, -1}\n"
     ]
    }
   ],
   "source": [
    "#Intersection (common elements)\n",
    "\n",
    "set1 = {1,2,3,4,5,-1}\n",
    "set2 = {1,0,-1,-2,-3,6}\n",
    "\n",
    "set3 = set1.intersection(set2)\n",
    "\n",
    "print(set3)"
   ]
  },
  {
   "cell_type": "code",
   "execution_count": 12,
   "metadata": {},
   "outputs": [
    {
     "name": "stdout",
     "output_type": "stream",
     "text": [
      "{1, -1}\n"
     ]
    }
   ],
   "source": [
    "#Intersection_update\n",
    "\n",
    "set1 = {1,2,3,4,5,-1}\n",
    "set2 = {1,0,-1,-2,-3,6}\n",
    "\n",
    "set1.intersection_update(set2)\n",
    "\n",
    "print(set1)"
   ]
  },
  {
   "cell_type": "code",
   "execution_count": 13,
   "metadata": {},
   "outputs": [
    {
     "name": "stdout",
     "output_type": "stream",
     "text": [
      "{2, 3, 4, 5}\n"
     ]
    }
   ],
   "source": [
    "#difference\n",
    "\n",
    "set1 = {1,2,3,4,5,-1}\n",
    "set2 = {1,0,-1,-2,-3,6}\n",
    "\n",
    "set3 = set1.difference(set2)\n",
    "\n",
    "print(set3)"
   ]
  },
  {
   "cell_type": "code",
   "execution_count": 15,
   "metadata": {},
   "outputs": [
    {
     "name": "stdout",
     "output_type": "stream",
     "text": [
      "{0, 6, -2, -3}\n"
     ]
    }
   ],
   "source": [
    "#difference_update\n",
    "\n",
    "set1 = {1,2,3,4,5,-1}\n",
    "set2 = {1,0,-1,-2,-3,6}\n",
    "\n",
    "set2.difference_update(set1)\n",
    "\n",
    "print(set2)"
   ]
  },
  {
   "cell_type": "code",
   "execution_count": 17,
   "metadata": {},
   "outputs": [
    {
     "name": "stdout",
     "output_type": "stream",
     "text": [
      "{0, 2, 3, 4, 5, 6, -2, -3}\n"
     ]
    }
   ],
   "source": [
    "#symmeteric difference (Union - Intersection)\n",
    "\n",
    "set1 = {1,2,3,4,5,-1}\n",
    "set2 = {1,0,-1,-2,-3,6}\n",
    "\n",
    "set3 = set1.symmetric_difference(set2)\n",
    "\n",
    "print(set3)"
   ]
  },
  {
   "cell_type": "code",
   "execution_count": 16,
   "metadata": {},
   "outputs": [
    {
     "name": "stdout",
     "output_type": "stream",
     "text": [
      "{0, 2, 3, 4, 5, 6, -2, -3}\n"
     ]
    }
   ],
   "source": [
    "#symmeteric difference update\n",
    "\n",
    "set1 = {1,2,3,4,5,-1}\n",
    "set2 = {1,0,-1,-2,-3,6}\n",
    "\n",
    "set2.symmetric_difference_update(set1)\n",
    "\n",
    "print(set2)"
   ]
  },
  {
   "cell_type": "code",
   "execution_count": 19,
   "metadata": {},
   "outputs": [
    {
     "name": "stdout",
     "output_type": "stream",
     "text": [
      "False\n",
      "True\n"
     ]
    }
   ],
   "source": [
    "#isdisjoint\n",
    "\n",
    "set1 = {1,2,3,4,5,-1}\n",
    "set2 = {1,0,-1,-2,-3,6}\n",
    "set3= {9,10,6,7,8,11}\n",
    "\n",
    "print(set1.isdisjoint(set2)) #common elements available\n",
    "print(set1.isdisjoint(set3)) ##common elements not available"
   ]
  },
  {
   "cell_type": "code",
   "execution_count": 21,
   "metadata": {},
   "outputs": [
    {
     "name": "stdout",
     "output_type": "stream",
     "text": [
      "True\n",
      "False\n",
      "True\n",
      "False\n"
     ]
    }
   ],
   "source": [
    "#issubset / issuperset\n",
    "\n",
    "set1 = {1,2,3,4,5,-1}\n",
    "set2 = {3,4,5}\n",
    "set3= {1,-10}\n",
    "\n",
    "print(set1.issuperset(set2))\n",
    "print(set1.issuperset(set3))\n",
    "\n",
    "print(set2.issubset(set1))\n",
    "print(set2.issubset(set3))"
   ]
  },
  {
   "cell_type": "markdown",
   "metadata": {},
   "source": [
    "## Dictionary "
   ]
  },
  {
   "cell_type": "code",
   "execution_count": null,
   "metadata": {},
   "outputs": [],
   "source": [
    "#{key:value}\n",
    "#Mutable\n",
    "#access elements through keys\n",
    "#ordering or indexing ===> not supported (key == index)\n",
    "#key is unique and values can have duplicate elements\n",
    "#concatenation not supported\n",
    "#* multiplication not supported\n",
    "\n"
   ]
  },
  {
   "cell_type": "code",
   "execution_count": 2,
   "metadata": {},
   "outputs": [
    {
     "name": "stdout",
     "output_type": "stream",
     "text": [
      "{10: 1000, 3.1: 'kkk', 'hello': 100, 'world': 20.2, 20: 100}\n"
     ]
    }
   ],
   "source": [
    "dict1 = {10:\"python\", 3.10:\"value\", \"hello\":100, \"world\":20.20, 10:70, 20:100, 10:1000, 3.10:\"kkk\"}\n",
    "\n",
    "print(dict1)\n",
    "#print(dict1[0])"
   ]
  },
  {
   "cell_type": "code",
   "execution_count": 26,
   "metadata": {},
   "outputs": [
    {
     "name": "stdout",
     "output_type": "stream",
     "text": [
      "{}\n",
      "<class 'dict'>\n",
      "{}\n",
      "<class 'dict'>\n"
     ]
    }
   ],
   "source": [
    "#Create empty dictionary\n",
    "\n",
    "dict1 = {}\n",
    "\n",
    "print(dict1)\n",
    "\n",
    "print(type(dict1))\n",
    "\n",
    "dict1 = dict()\n",
    "\n",
    "print(dict1)\n",
    "\n",
    "print(type(dict1))"
   ]
  },
  {
   "cell_type": "code",
   "execution_count": 5,
   "metadata": {},
   "outputs": [
    {
     "name": "stdout",
     "output_type": "stream",
     "text": [
      "{10: 1000, 3.1: 'value', 'hello': 100, 'world': 20.2, 20: 100}\n",
      "<class 'dict'>\n"
     ]
    }
   ],
   "source": [
    "dict1 = {10:\"python\", 3.10:\"value\", \"hello\":100, \"world\":20.20, 10:70, 20:100, 10:1000}\n",
    "\n",
    "#keys: int , float, str\n",
    "#values: anything\n",
    "\n",
    "\n",
    "print(dict1)\n",
    "\n",
    "print(type(dict1))"
   ]
  },
  {
   "cell_type": "code",
   "execution_count": 31,
   "metadata": {},
   "outputs": [
    {
     "name": "stdout",
     "output_type": "stream",
     "text": [
      "{10: 70, 3.1: 'value', 'hello': 100, 'world': 20.2, 20: 100, True: 11}\n",
      "<class 'dict'>\n"
     ]
    }
   ],
   "source": [
    "dict1 = {10:\"python\", 3.10:\"value\", \"hello\":100, \"world\":20.20, 10:70, 20:100, True:11}\n",
    "\n",
    "#keys: int , float, str\n",
    "#values: anything\n",
    "\n",
    "\n",
    "print(dict1)\n",
    "\n",
    "print(type(dict1))"
   ]
  },
  {
   "cell_type": "code",
   "execution_count": 32,
   "metadata": {},
   "outputs": [
    {
     "name": "stdout",
     "output_type": "stream",
     "text": [
      "{10: 70, 3.1: 'value', 'hello': 100, 'world': 20.2, 20: 100, True: 11}\n",
      "<class 'dict'>\n"
     ]
    }
   ],
   "source": [
    "dict1 = {10:\"python\", 3.10:\"value\", \"hello\":100, \"world\":20.20, 10:70, 20:100, True:11, 1:11}\n",
    "\n",
    "#keys: int , float, str\n",
    "#values: anything\n",
    "\n",
    "\n",
    "print(dict1)\n",
    "\n",
    "print(type(dict1))"
   ]
  },
  {
   "cell_type": "code",
   "execution_count": 37,
   "metadata": {},
   "outputs": [
    {
     "name": "stdout",
     "output_type": "stream",
     "text": [
      "{10: 70, 3.1: 'value', 'hello': 100, 'world': 20.2, 20: 100, True: 11}\n",
      "100\n",
      "100\n",
      "20.2\n",
      "<class 'dict'>\n"
     ]
    }
   ],
   "source": [
    "dict1 = {10:\"python\", 3.10:\"value\", \"hello\":100, \"world\":20.20, 10:70, 20:100, True:11, 1:11}\n",
    "\n",
    "\n",
    "print(dict1)\n",
    "\n",
    "print(dict1[\"hello\"])\n",
    "\n",
    "print(dict1[20])\n",
    "\n",
    "print(dict1.get(\"world\"))\n",
    "\n",
    "\n",
    "#print(dict1[0])\n",
    "\n",
    "print(type(dict1))"
   ]
  },
  {
   "cell_type": "code",
   "execution_count": 3,
   "metadata": {},
   "outputs": [
    {
     "name": "stdout",
     "output_type": "stream",
     "text": [
      "{'name': 'gggg', 'age': 13, 'station': 'marathalli', 'drop': 'silk board'}\n",
      "dict_keys(['name', 'age', 'station', 'drop'])\n",
      "dict_values(['gggg', 13, 'marathalli', 'silk board'])\n",
      "dict_items([('name', 'gggg'), ('age', 13), ('station', 'marathalli'), ('drop', 'silk board')])\n"
     ]
    }
   ],
   "source": [
    "#add / replace\n",
    "\n",
    "values = {\"name\":\"rrrr\", \"age\":13, \"station\":\"marathalli\"}\n",
    "\n",
    "values[\"name\"] = \"gggg\"  #replace\n",
    "\n",
    "values[\"drop\"] = \"silk board\" #add\n",
    "\n",
    "print(values)\n",
    "\n",
    "print(values.keys())\n",
    "print(values.values())\n",
    "print(values.items())"
   ]
  },
  {
   "cell_type": "code",
   "execution_count": 9,
   "metadata": {},
   "outputs": [
    {
     "name": "stdout",
     "output_type": "stream",
     "text": [
      "gggg\n",
      "13\n",
      "marathalli\n",
      "13\n",
      "silk board\n",
      "{'gggg': 1, 13: 2, 'marathalli': 1, 'silk board': 1}\n"
     ]
    }
   ],
   "source": [
    "v = {'name': 'gggg', 'age': 13, 'station': 'marathalli', \"busnumber\":13, 'drop': 'silk board'}\n",
    "\n",
    "\n",
    "#print()\n",
    "count = {}\n",
    "\n",
    "for i in v.values():\n",
    "    print(i)\n",
    "    if i in count.keys():\n",
    "        count[i] = count[i] + 1\n",
    "    else:\n",
    "        count[i] = 1\n",
    "    \n",
    "print(count)\n",
    "    "
   ]
  },
  {
   "cell_type": "code",
   "execution_count": 40,
   "metadata": {},
   "outputs": [
    {
     "name": "stdout",
     "output_type": "stream",
     "text": [
      "{'name': 'gggg', 'station': 'marathalli', 'drop': 'silk board'}\n"
     ]
    }
   ],
   "source": [
    "#removal\n",
    "\n",
    "details = {'name': 'gggg', 'age': 13, 'station': 'marathalli', 'drop': 'silk board'}\n",
    "\n",
    "details.pop('age')\n",
    "\n",
    "print(details)"
   ]
  },
  {
   "cell_type": "code",
   "execution_count": 10,
   "metadata": {},
   "outputs": [
    {
     "name": "stdout",
     "output_type": "stream",
     "text": [
      "{'name': 'ttt', 'age': 13, 'station': 'marathalli'}\n"
     ]
    }
   ],
   "source": [
    "details = {'name': 'gggg', 'age': 13, 'station': 'marathalli', 'drop': 'silk board'}\n",
    "\n",
    "details[\"name\"] = \"ttt\"\n",
    "\n",
    "details.popitem() #random element removal\n",
    "\n",
    "print(details)"
   ]
  },
  {
   "cell_type": "code",
   "execution_count": 42,
   "metadata": {},
   "outputs": [
    {
     "name": "stdout",
     "output_type": "stream",
     "text": [
      "{'name': 'gggg', 'age': 13, 'station': 'marathalli', 'drop': 'silk board', 'date': '12:12:2022', 'Time': '12:34:20'}\n"
     ]
    }
   ],
   "source": [
    "#update\n",
    "\n",
    "details = {'name': 'gggg', 'age': 13, 'station': 'marathalli', 'drop': 'silk board'}\n",
    "\n",
    "extra = {\"date\":\"12:12:2022\",\"Time\":\"12:34:20\"}\n",
    "\n",
    "details.update(extra)\n",
    "\n",
    "print(details)"
   ]
  },
  {
   "cell_type": "markdown",
   "metadata": {},
   "source": [
    "## Data structure conversion"
   ]
  },
  {
   "cell_type": "code",
   "execution_count": 4,
   "metadata": {},
   "outputs": [
    {
     "name": "stdout",
     "output_type": "stream",
     "text": [
      "[1, 2, 3, 4]\n",
      "(1, 2, 3, 4, 3, 4, 2, 1, 2, 3, 4, 1)\n"
     ]
    }
   ],
   "source": [
    "#list to set ?\n",
    "\n",
    "#list to tuple\n",
    "\n",
    "#set to list\n",
    "\n",
    "#set to tuple\n",
    "\n",
    "#tuple to list\n",
    "\n",
    "#tuple to set\n",
    "\n",
    "#list to dictionary\n",
    "\n",
    "\n",
    "\n",
    "\n",
    "list1 = [1,2,3,4,3,4,2,1,2,3,4,1]\n",
    "\n",
    "list1 = list(set(list1))\n",
    "\n",
    "print(list1)\n",
    "\n",
    "\n",
    "list1 = [1,2,3,4,3,4,2,1,2,3,4,1]\n",
    "\n",
    "list1 = tuple(list1)\n",
    "\n",
    "print(list1)\n",
    "\n",
    "#quicker compared to other data structs (especially list)\n",
    "#less memory\n",
    "#immutable to avoid accidiental change"
   ]
  },
  {
   "cell_type": "code",
   "execution_count": 10,
   "metadata": {},
   "outputs": [
    {
     "name": "stdout",
     "output_type": "stream",
     "text": [
      "{3: 'hello', 4: 'hi', 5: 'welcome', 6: 'to', 91: 'python'}\n",
      "[(3, 'hello'), (4, 'hi'), (5, 'welcome'), (6, 'to'), (91, 'python')]\n"
     ]
    }
   ],
   "source": [
    "#zip ===> inbuilt function\n",
    "\n",
    "Li1 = [3,4,5,6,91]\n",
    "Li2 = [\"hello\",\"hi\",\"welcome\",\"to\",\"python\"]\n",
    "\n",
    "print(dict(zip(Li1,Li2)))\n",
    "print(list(zip(Li1,Li2)))"
   ]
  },
  {
   "cell_type": "markdown",
   "metadata": {},
   "source": [
    "## Nested Data structure"
   ]
  },
  {
   "cell_type": "code",
   "execution_count": 13,
   "metadata": {},
   "outputs": [
    {
     "name": "stdout",
     "output_type": "stream",
     "text": [
      "welcome\n",
      "come\n",
      "python\n",
      "on\n"
     ]
    }
   ],
   "source": [
    "Li1 = [\"hello\",\"hi\",\"welcome\",\"to\",\"python\"]\n",
    "\n",
    "#come\n",
    "#on\n",
    "\n",
    "print(Li1[2])\n",
    "print(Li1[2][3:])\n",
    "\n",
    "print(Li1[-1])\n",
    "print(Li1[-1][-2:])"
   ]
  },
  {
   "cell_type": "code",
   "execution_count": 4,
   "metadata": {},
   "outputs": [
    {
     "name": "stdout",
     "output_type": "stream",
     "text": [
      "(6, 'to')\n",
      "to\n",
      "6\n",
      "o\n"
     ]
    }
   ],
   "source": [
    "Li1 = [(3, 'hello'), (4, 'hi'), (5, 'welcome'), (6, 'to'), (91, 'python')]\n",
    "\n",
    "#come\n",
    "#on\n",
    "\"\"\"\n",
    "print(Li1[2])\n",
    "print(Li1[2][1])\n",
    "print(Li1[2][1][3:])\n",
    "print(Li1[-1][-1][-2:])\n",
    "\"\"\"\n",
    "print(Li1[3])\n",
    "print(Li1[3][1])\n",
    "print(Li1[3][0])\n",
    "print(Li1[3][1][1])"
   ]
  },
  {
   "cell_type": "code",
   "execution_count": 22,
   "metadata": {},
   "outputs": [
    {
     "name": "stdout",
     "output_type": "stream",
     "text": [
      "[(3, 'hello'), (4, 'hi'), (5, 'welcome'), (6, 'to'), (91, 'python')]\n",
      "(3, 'hello')\n",
      "3\n",
      "hello\n",
      "ll\n",
      "(91, 'python')\n",
      "python\n",
      "yth\n"
     ]
    }
   ],
   "source": [
    "Li1 = [(3, 'hello'), (4, 'hi'), (5, 'welcome'), (6, 'to'), (91, 'python')]\n",
    "#ll\n",
    "#yth\n",
    "\n",
    "print(Li1)\n",
    "print(Li1[0])\n",
    "print(Li1[0][0])\n",
    "print(Li1[0][1])\n",
    "print(Li1[0][1][2:4])\n",
    "\n",
    "print(Li1[4])\n",
    "print(Li1[4][1])\n",
    "print(Li1[4][1][1:4])\n",
    "\n"
   ]
  },
  {
   "cell_type": "code",
   "execution_count": 12,
   "metadata": {},
   "outputs": [
    {
     "name": "stdout",
     "output_type": "stream",
     "text": [
      "come\n",
      "on\n"
     ]
    }
   ],
   "source": [
    "li1 = [(3, 'hello'), (4, 'hi'), (5, 'welcome'), (6, 'to'), (91, 'python')]\n",
    "print(li1[2][1][3:])\n",
    "print(li1[4][1][-2:])\n"
   ]
  },
  {
   "cell_type": "code",
   "execution_count": 25,
   "metadata": {},
   "outputs": [
    {
     "name": "stdout",
     "output_type": "stream",
     "text": [
      "7\n",
      "[100, 101, 102, 103, [1000, 1001, 1002]]\n",
      "102\n",
      "[1000, 1001, 1002]\n",
      "1001\n"
     ]
    }
   ],
   "source": [
    "Li3 = [4,5,6,7,[100,101,102,103,[1000,1001,1002]]]\n",
    "\n",
    "#1001\n",
    "#102\n",
    "#7\n",
    "\n",
    "print(Li3[3])\n",
    "print(Li3[4])\n",
    "print(Li3[4][2])\n",
    "print(Li3[4][4])\n",
    "print(Li3[4][4][1])\n"
   ]
  },
  {
   "cell_type": "code",
   "execution_count": 5,
   "metadata": {},
   "outputs": [
    {
     "name": "stdout",
     "output_type": "stream",
     "text": [
      "py\n",
      "wloe\n",
      "zoo\n"
     ]
    }
   ],
   "source": [
    "a = {1: [1,2,3,\"python\"], 2:{10:\"hello\",20:\"welcome\",40: \"science\"}, 99: {3,4,5,6}, 40:{1:\"zoology\", 2:\"Botany\"}}\n",
    "\n",
    "\n",
    "#py\n",
    "#wloe\n",
    "#5\n",
    "\n",
    "print(a[1][-1][0:2])\n",
    "print(a[2][20][::2])\n",
    "print(a[40][1][:3])\n",
    "\n"
   ]
  },
  {
   "cell_type": "code",
   "execution_count": 25,
   "metadata": {},
   "outputs": [
    {
     "name": "stdout",
     "output_type": "stream",
     "text": [
      "please enter the original stringpython\n",
      "Please enter the index3\n",
      "Please enter the replacing charz\n",
      "python\n",
      "h\n",
      "pytzon\n",
      "python\n"
     ]
    }
   ],
   "source": [
    "#Mutation \n",
    "\n",
    "#string  \n",
    "#position\n",
    "#one char\n",
    "\n",
    "#abracadebra\n",
    "#6\n",
    "#y\n",
    "\n",
    "main_string = input(\"please enter the original string\")\n",
    "position = int(input(\"Please enter the index\"))\n",
    "replacement = input(\"Please enter the replacing char\")\n",
    "\n",
    "\n",
    "print(main_string)\n",
    "print(main_string[position])\n",
    "\n",
    "\n",
    "print(main_string[:position] + replacement + main_string[position+1:])\n",
    "\n",
    "\n",
    "\n",
    "print(main_string)\n",
    "\n"
   ]
  },
  {
   "cell_type": "code",
   "execution_count": 37,
   "metadata": {},
   "outputs": [
    {
     "name": "stdout",
     "output_type": "stream",
     "text": [
      "c56j\n"
     ]
    }
   ],
   "source": [
    "String_1 = \"computerlbgkgvkfvjvjfvhjviklbikugfvjufvjuyfchuydchytdcfvyj\"\n",
    "\n",
    "\n",
    "print(String_1[0] + str(len(String_1[1:-1])) + String_1[-1])"
   ]
  },
  {
   "cell_type": "code",
   "execution_count": 41,
   "metadata": {},
   "outputs": [
    {
     "name": "stdout",
     "output_type": "stream",
     "text": [
      "H\n",
      "72\n"
     ]
    }
   ],
   "source": [
    "a = input(\"Enter the string: \")\n",
    "\n",
    "print(ord(a))"
   ]
  },
  {
   "cell_type": "code",
   "execution_count": null,
   "metadata": {},
   "outputs": [],
   "source": []
  }
 ],
 "metadata": {
  "kernelspec": {
   "display_name": "Python 3 (ipykernel)",
   "language": "python",
   "name": "python3"
  },
  "language_info": {
   "codemirror_mode": {
    "name": "ipython",
    "version": 3
   },
   "file_extension": ".py",
   "mimetype": "text/x-python",
   "name": "python",
   "nbconvert_exporter": "python",
   "pygments_lexer": "ipython3",
   "version": "3.9.13"
  }
 },
 "nbformat": 4,
 "nbformat_minor": 4
}
